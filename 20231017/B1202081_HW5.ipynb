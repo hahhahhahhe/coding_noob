{
  "nbformat": 4,
  "nbformat_minor": 0,
  "metadata": {
    "colab": {
      "provenance": []
    },
    "kernelspec": {
      "name": "python3",
      "display_name": "Python 3"
    },
    "language_info": {
      "name": "python"
    }
  },
  "cells": [
    {
      "cell_type": "code",
      "execution_count": null,
      "metadata": {
        "colab": {
          "base_uri": "https://localhost:8080/"
        },
        "id": "Ct_bm5Xd03Ll",
        "outputId": "402145a1-3ece-4d2c-8702-e0e66a5f4ffe"
      },
      "outputs": [
        {
          "output_type": "stream",
          "name": "stdout",
          "text": [
            "        *\n",
            "       ***\n",
            "      *****\n",
            "     *******\n",
            "    *********\n",
            "   ***********\n",
            "  *************\n",
            " ***************\n",
            "*****************\n",
            "       ***\n",
            "       ***\n",
            "       ***\n",
            "       ***\n",
            "       ***\n"
          ]
        }
      ],
      "source": [
        "for i in range(1,15):\n",
        "  if i <= 9:\n",
        "    print(' '*(9-i),end = '')\n",
        "    print('*'*(2*i-1),end = '')\n",
        "  else:\n",
        "    print(' '*7,end = '')\n",
        "    print('*'*3)\n",
        "    continue\n",
        "  print()"
      ]
    },
    {
      "cell_type": "code",
      "source": [
        "import random\n",
        "a = random.sample(range(1,10),4)\n",
        "print('答案：'+ str(a))\n",
        "count_times = 1\n",
        "b = input('輸入四個數字（不會重複）：')\n",
        "c = list(str(b))\n",
        "d = [int(i) for i in c]\n",
        "while d != a:\n",
        "  count_A = 0\n",
        "  count_B = 0\n",
        "  if count_times != 1 and len(d) == 4:\n",
        "    b = input('輸入四個數字（不會重複）：')\n",
        "    c = list(str(b))\n",
        "    d = [int(i) for i in c]\n",
        "    if d == a:\n",
        "      print(str(b)+':4A0B')\n",
        "      print('答對了！總共猜了'+str(count_times)+'次')\n",
        "      break\n",
        "  elif count_times != 1 and len(d) > 4:\n",
        "    b = input('輸入數字過多，請輸入四個數字（不會重複）：')\n",
        "    c = list(str(b))\n",
        "    d = [int(i) for i in c]\n",
        "  elif count_times != 1 and len(d) < 4:\n",
        "    b = input('輸入數字過少，請輸入四位數字（不會重複）：')\n",
        "    c = list(str(b))\n",
        "    d = [int(i) for i in c]\n",
        "  if len(d) == 4:\n",
        "    count_times += 1\n",
        "    for m in range(len(d)):\n",
        "      for n in range(len(d)):\n",
        "        if d[m] == a[n] and m == n:\n",
        "          count_A += 1\n",
        "        elif d[m] == a[n] and m != n:\n",
        "          count_B += 1\n",
        "    print(str(b)+':'+str(count_A)+'A'+str(count_B)+'B')\n",
        "if d == a and count_times == 1:\n",
        "  print(str(b)+':4A0B')\n",
        "  print('答對了！總共猜了1次')\n"
      ],
      "metadata": {
        "colab": {
          "base_uri": "https://localhost:8080/"
        },
        "id": "6QEOT9noSWOP",
        "outputId": "8d3fb4c5-bcdc-42c1-d4e0-e8afc53f69f5"
      },
      "execution_count": 2,
      "outputs": [
        {
          "output_type": "stream",
          "name": "stdout",
          "text": [
            "答案：[5, 6, 7, 4]\n",
            "輸入四個數字（不會重複）：3728\n",
            "3728:0A1B\n",
            "輸入四個數字（不會重複）：8462\n",
            "8462:0A2B\n",
            "輸入四個數字（不會重複）：465783\n",
            "輸入數字過多，請輸入四個數字（不會重複）：5672\n",
            "5672:3A0B\n",
            "輸入四個數字（不會重複）：5674\n",
            "5674:4A0B\n",
            "答對了！總共猜了4次\n"
          ]
        }
      ]
    }
  ]
}
