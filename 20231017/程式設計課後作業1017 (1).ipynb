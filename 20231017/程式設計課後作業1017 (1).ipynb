{
  "nbformat": 4,
  "nbformat_minor": 0,
  "metadata": {
    "colab": {
      "provenance": []
    },
    "kernelspec": {
      "name": "python3",
      "display_name": "Python 3"
    },
    "language_info": {
      "name": "python"
    }
  },
  "cells": [
    {
      "cell_type": "code",
      "execution_count": 2,
      "metadata": {
        "colab": {
          "base_uri": "https://localhost:8080/"
        },
        "id": "Ct_bm5Xd03Ll",
        "outputId": "8abf2135-d2bd-427e-ce87-f713fb0dd5f6"
      },
      "outputs": [
        {
          "output_type": "stream",
          "name": "stdout",
          "text": [
            "        *\n",
            "       ***\n",
            "      *****\n",
            "     *******\n",
            "    *********\n",
            "   ***********\n",
            "  *************\n",
            " ***************\n",
            "*****************\n",
            "       ***\n",
            "       ***\n",
            "       ***\n",
            "       ***\n",
            "       ***\n"
          ]
        }
      ],
      "source": [
        "for i in range(1,15):\n",
        "  if i <= 9:\n",
        "    print(' '*(9-i),end = '')\n",
        "    print('*'*(2*i-1),end = '')\n",
        "  else:\n",
        "    print(' '*7,end = '')\n",
        "    print('*'*3)\n",
        "    continue\n",
        "  print()"
      ]
    },
    {
      "cell_type": "code",
      "source": [
        "import random\n",
        "a = random.sample(range(1,10),4)\n",
        "print('答案：'+ str(a))\n",
        "count_times = 1\n",
        "b = input('輸入四個數字（不會重複）：')\n",
        "c = list(str(b))\n",
        "d = [int(i) for i in c]\n",
        "count_mistake = 0\n",
        "while d != a:\n",
        "  count_A = 0\n",
        "  count_B = 0\n",
        "  if count_times != 1 and len(d) == 4:\n",
        "    b = input('輸入四個數字（不會重複）：')\n",
        "    c = list(str(b))\n",
        "    d = [int(i) for i in c]\n",
        "    if d == a:\n",
        "      print(str(b)+':4A0B')\n",
        "      print('答對了！總共猜了'+str(count_times - count_mistake)+'次')\n",
        "      break\n",
        "  elif count_times != 1 and len(d) > 4:\n",
        "    b = input('輸入數字過多，請輸入四個數字（不會重複）：')\n",
        "    c = list(str(b))\n",
        "    d = [int(i) for i in c]\n",
        "  elif count_times != 1 and len(d) < 4:\n",
        "    b = input('輸入數字過少，請輸入四位數字（不會重複）：')\n",
        "    c = list(str(b))\n",
        "    d = [int(i) for i in c]\n",
        "  if len(d) == 4:\n",
        "    count_times += 1\n",
        "    for m in range(len(d)):\n",
        "      for n in range(len(d)):\n",
        "        if d[m] == a[n] and m == n:\n",
        "          count_A += 1\n",
        "        elif d[m] == a[n] and m != n:\n",
        "          count_B += 1\n",
        "    print(str(b)+':'+str(count_A)+'A'+str(count_B)+'B')\n",
        "  elif count_times == 1 and len(d) != 4:\n",
        "    count_times += 1\n",
        "    count_mistake += 1\n",
        "if d == a and count_times == 1:\n",
        "  print(str(b)+':4A0B')\n",
        "  print('答對了！總共猜了1次')\n"
      ],
      "metadata": {
        "colab": {
          "base_uri": "https://localhost:8080/"
        },
        "id": "6QEOT9noSWOP",
        "outputId": "48e8f1fc-c9ba-4a76-a561-16cb3c14189c"
      },
      "execution_count": 11,
      "outputs": [
        {
          "output_type": "stream",
          "name": "stdout",
          "text": [
            "答案：[7, 1, 5, 9]\n",
            "輸入四個數字（不會重複）：65742\n",
            "輸入數字過多，請輸入四個數字（不會重複）：5621\n",
            "5621:0A2B\n",
            "輸入四個數字（不會重複）：7694\n",
            "7694:1A1B\n",
            "輸入四個數字（不會重複）：7195\n",
            "7195:2A2B\n",
            "輸入四個數字（不會重複）：7159\n",
            "7159:4A0B\n",
            "答對了！總共猜了4次\n"
          ]
        }
      ]
    }
  ]
}