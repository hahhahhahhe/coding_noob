{
  "nbformat": 4,
  "nbformat_minor": 0,
  "metadata": {
    "colab": {
      "provenance": [],
      "authorship_tag": "ABX9TyP6V3rfTRyfTouYfrN094TP",
      "include_colab_link": true
    },
    "kernelspec": {
      "name": "python3",
      "display_name": "Python 3"
    },
    "language_info": {
      "name": "python"
    }
  },
  "cells": [
    {
      "cell_type": "markdown",
      "metadata": {
        "id": "view-in-github",
        "colab_type": "text"
      },
      "source": [
        "<a href=\"https://colab.research.google.com/github/hahhahhahhe/coding_noob/blob/main/20231024/B1202081_HW6.ipynb\" target=\"_parent\"><img src=\"https://colab.research.google.com/assets/colab-badge.svg\" alt=\"Open In Colab\"/></a>"
      ]
    },
    {
      "cell_type": "code",
      "execution_count": null,
      "metadata": {
        "colab": {
          "base_uri": "https://localhost:8080/"
        },
        "id": "hC2LejfLcmHw",
        "outputId": "8f09c61b-d20c-481b-f305-d3beb38d3db7"
      },
      "outputs": [
        {
          "output_type": "stream",
          "name": "stdout",
          "text": [
            "30\n",
            "                       *\n",
            "                      ***\n",
            "                     *****\n",
            "                    *******\n",
            "                   *********\n",
            "                  ***********\n",
            "                 *************\n",
            "                ***************\n",
            "               *****************\n",
            "              *******************\n",
            "             *********************\n",
            "            ***********************\n",
            "           *************************\n",
            "          ***************************\n",
            "         *****************************\n",
            "        *******************************\n",
            "       *********************************\n",
            "      ***********************************\n",
            "     *************************************\n",
            "    ***************************************\n",
            "   *****************************************\n",
            "  *******************************************\n",
            " *********************************************\n",
            "***********************************************\n",
            "                      ***\n",
            "                      ***\n",
            "                      ***\n",
            "                      ***\n",
            "                      ***\n",
            "                      ***\n"
          ]
        }
      ],
      "source": [
        "def make_a_tree(height):\n",
        "  for i in range(1,height+1):\n",
        "    if i >= (height-5):\n",
        "      print(' '*(height-8)+'*'*3)\n",
        "    else:\n",
        "      print(' '*(height-6-i)+'*'*i,end = '')\n",
        "      print('*'*(i-1))\n",
        "\n",
        "height = int(input())\n",
        "make_a_tree(height)\n",
        "\n"
      ]
    },
    {
      "cell_type": "code",
      "source": [
        "def calculate_bmi(height,weight):\n",
        "  輸入內容錯誤 = '輸入內容錯誤'\n",
        "  try:\n",
        "    height = int(height)\n",
        "    weight = int(weight)\n",
        "    result = weight/(0.01*height)/(0.01*height)\n",
        "    if result < 18.5:\n",
        "      return 'BMI：{}\\n體位：過輕'.format(result)\n",
        "    elif 18.5 <= result <24:\n",
        "      return 'BMI：{}\\n體位：適中'.format(result)\n",
        "    elif 24 <= result <27:\n",
        "      return 'BMI：{}\\n體位：過重'.format(result)\n",
        "    else:\n",
        "      return 'BMI：{}\\n體位：肥胖'.format(result)\n",
        "  except:\n",
        "    return 輸入內容錯誤\n",
        "\n",
        "height = input('請輸入身高(公分)：')\n",
        "weight = input('請輸入體重(公斤):')\n",
        "\n",
        "print(calculate_bmi(height,weight))"
      ],
      "metadata": {
        "colab": {
          "base_uri": "https://localhost:8080/"
        },
        "id": "bF0vlQitkKdh",
        "outputId": "b9d506a4-f976-4c33-aacd-5dbfcfe51fe8"
      },
      "execution_count": null,
      "outputs": [
        {
          "output_type": "stream",
          "name": "stdout",
          "text": [
            "請輸入身高(公分)：176\n",
            "請輸入體重(公斤):70\n",
            "BMI：22.598140495867767\n",
            "體位：適中\n"
          ]
        }
      ]
    }
  ]
}