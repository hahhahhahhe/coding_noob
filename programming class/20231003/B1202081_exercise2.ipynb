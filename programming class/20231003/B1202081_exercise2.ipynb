{
  "nbformat": 4,
  "nbformat_minor": 0,
  "metadata": {
    "colab": {
      "provenance": []
    },
    "kernelspec": {
      "name": "python3",
      "display_name": "Python 3"
    },
    "language_info": {
      "name": "python"
    }
  },
  "cells": [
    {
      "cell_type": "code",
      "execution_count": null,
      "metadata": {
        "colab": {
          "base_uri": "https://localhost:8080/"
        },
        "id": "2iFNOkYSdtrr",
        "outputId": "cadd7335-e1e9-4a51-b060-87c76c2513ae"
      },
      "outputs": [
        {
          "output_type": "stream",
          "name": "stdout",
          "text": [
            "A\n",
            "['K', 'H', 'U']\n"
          ]
        }
      ],
      "source": [
        "a = 'C,B,A'\n",
        "b = ['F','G','H']\n",
        "a = a.split(',')\n",
        "c = a + b\n",
        "c[0] = 'K'\n",
        "print(c.pop(2))\n",
        "del c[1:4]\n",
        "c.append('U')\n",
        "print(c)"
      ]
    },
    {
      "cell_type": "code",
      "source": [
        "a = int(input('請輸入身高(cm)='))\n",
        "c = int(input('請輸入體重(kg)='))\n",
        "c /= (0.01*a)**2\n",
        "b = ['過輕','適中','過重','肥胖']\n",
        "if c < 18.5:\n",
        "  print(b[0])\n",
        "elif 18.5 <= c < 24:\n",
        "  print(b[1])\n",
        "elif 24 <= c <= 27:\n",
        "  print(b[2])\n",
        "else:\n",
        "  print(b[3])"
      ],
      "metadata": {
        "colab": {
          "base_uri": "https://localhost:8080/"
        },
        "id": "cP73v3URlnSM",
        "outputId": "557416f2-b718-49a6-8ce0-01d5e4057a7d"
      },
      "execution_count": null,
      "outputs": [
        {
          "output_type": "stream",
          "name": "stdout",
          "text": [
            "請輸入身高(cm)=169\n",
            "請輸入體重(kg)=30\n",
            "過輕\n"
          ]
        }
      ]
    }
  ]
}
