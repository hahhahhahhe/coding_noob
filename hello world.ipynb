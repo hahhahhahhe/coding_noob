{
  "nbformat": 4,
  "nbformat_minor": 0,
  "metadata": {
    "colab": {
      "provenance": [],
      "toc_visible": true
    },
    "kernelspec": {
      "name": "python3",
      "display_name": "Python 3"
    },
    "language_info": {
      "name": "python"
    }
  },
  "cells": [
    {
      "cell_type": "code",
      "execution_count": null,
      "metadata": {
        "colab": {
          "base_uri": "https://localhost:8080/"
        },
        "id": "jpNGmRNffVtc",
        "outputId": "c9a5335b-98f5-4b18-e444-d9b22d8dc6be"
      },
      "outputs": [
        {
          "output_type": "stream",
          "name": "stdout",
          "text": [
            "Hello, World! (・∀・(・∀・(・∀・*)\n"
          ]
        }
      ],
      "source": [
        "print('Hello, World! (・∀・(・∀・(・∀・*)')\n"
      ]
    }
  ]
}
