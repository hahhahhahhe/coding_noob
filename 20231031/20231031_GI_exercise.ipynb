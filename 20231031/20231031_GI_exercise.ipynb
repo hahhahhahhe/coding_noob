{
  "nbformat": 4,
  "nbformat_minor": 0,
  "metadata": {
    "colab": {
      "provenance": [],
      "authorship_tag": "ABX9TyPR0YBtiGn1/RwWRi4aqikk",
      "include_colab_link": true
    },
    "kernelspec": {
      "name": "python3",
      "display_name": "Python 3"
    },
    "language_info": {
      "name": "python"
    }
  },
  "cells": [
    {
      "cell_type": "markdown",
      "metadata": {
        "id": "view-in-github",
        "colab_type": "text"
      },
      "source": [
        "<a href=\"https://colab.research.google.com/github/hahhahhahhe/coding_noob/blob/main/20231031/B1202081_exercise.ipynb\" target=\"_parent\"><img src=\"https://colab.research.google.com/assets/colab-badge.svg\" alt=\"Open In Colab\"/></a>"
      ]
    },
    {
      "cell_type": "code",
      "execution_count": 15,
      "metadata": {
        "colab": {
          "base_uri": "https://localhost:8080/"
        },
        "id": "Oj25mwE3jcbC",
        "outputId": "aa39970d-75ea-4b68-a913-f5ab8e3b0fa2"
      },
      "outputs": [
        {
          "output_type": "stream",
          "name": "stdout",
          "text": [
            "25\n",
            "23\n"
          ]
        }
      ],
      "source": [
        "num = int(input())\n",
        "check = 0\n",
        "for i in range(1,(num+1)):\n",
        "  if num % i == 0 and i != 1 and i != num:\n",
        "    check = 1\n",
        "if check == 0:\n",
        "  print(num)\n",
        "\n",
        "if check != 0:\n",
        "  max = 0\n",
        "  for i in range(1,(num+1)):\n",
        "    check = 0\n",
        "    for j in range(1,(i+1)):\n",
        "      if i % j == 0 and j != 1 and j != i:\n",
        "        check = 1\n",
        "    if check != 1:\n",
        "      max = i\n",
        "  print(max)\n"
      ]
    },
    {
      "cell_type": "code",
      "source": [
        "num = input('請輸入數字:')\n",
        "num_l = num.split(',')\n",
        "num_list = [int(i) for i in num_l]\n",
        "print_list = []\n",
        "for i in range(len(num_list)):\n",
        "  print_list.append(0)\n",
        "for i in range(len(num_list)):\n",
        "  count = 0\n",
        "  for j in range(len(num_list)):\n",
        "    if num_list[j] < num_list[i]:\n",
        "      count += 1\n",
        "  print_list[i] = count\n",
        "print(print_list)\n",
        "\n"
      ],
      "metadata": {
        "colab": {
          "base_uri": "https://localhost:8080/"
        },
        "id": "iCFsiSXdkM0v",
        "outputId": "be0b11c6-e0a8-4fae-ba6b-dd8ba8800664"
      },
      "execution_count": 26,
      "outputs": [
        {
          "output_type": "stream",
          "name": "stdout",
          "text": [
            "請輸入數字:8,1,2,2,3\n",
            "[4, 0, 1, 1, 3]\n"
          ]
        }
      ]
    },
    {
      "cell_type": "code",
      "source": [
        "a = input('輸入:')\n",
        "b = list(a)\n",
        "c = [int(i) for i in b]\n",
        "d = []\n",
        "for i in range(len(c)):\n",
        "  d.append(0)\n",
        "for i in range(len(c)):\n",
        "  for j in range(len(c)):\n",
        "    if c[j] == 1 and j-i >= 0:\n",
        "      d[i] += j-i\n",
        "    elif c[j] == 1 and j-i < 0:\n",
        "      d[i] += i-j\n",
        "print(d)\n",
        "\n"
      ],
      "metadata": {
        "colab": {
          "base_uri": "https://localhost:8080/"
        },
        "id": "fwAvr-aJtwwQ",
        "outputId": "120210e1-5027-43ea-fa0f-c965e2af36a1"
      },
      "execution_count": 39,
      "outputs": [
        {
          "output_type": "stream",
          "name": "stdout",
          "text": [
            "輸入:001011\n",
            "[11, 8, 5, 4, 3, 4]\n"
          ]
        }
      ]
    }
  ]
}
