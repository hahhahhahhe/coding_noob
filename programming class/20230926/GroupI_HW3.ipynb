{
  "nbformat": 4,
  "nbformat_minor": 0,
  "metadata": {
    "colab": {
      "provenance": []
    },
    "kernelspec": {
      "name": "python3",
      "display_name": "Python 3"
    },
    "language_info": {
      "name": "python"
    }
  },
  "cells": [
    {
      "cell_type": "code",
      "execution_count": null,
      "metadata": {
        "colab": {
          "base_uri": "https://localhost:8080/"
        },
        "id": "DCxKypHF1eWR",
        "outputId": "f1988fc7-c72b-4675-d18f-6425642a964c"
      },
      "outputs": [
        {
          "output_type": "stream",
          "name": "stdout",
          "text": [
            "I'm a student\n"
          ]
        }
      ],
      "source": [
        "print(\"I'm a student\")"
      ]
    },
    {
      "cell_type": "code",
      "source": [
        "a = int(input('請輸入x1='))\n",
        "b = int(input('請輸入y1='))\n",
        "c = int(input('請輸入x2='))\n",
        "d = int(input('請輸入y2='))\n",
        "a -= c\n",
        "b -= d\n",
        "print('AB距離=',((a**2+b**2)**(1/2)))"
      ],
      "metadata": {
        "colab": {
          "base_uri": "https://localhost:8080/"
        },
        "id": "OtKMmGoN1nzY",
        "outputId": "f20f4ee6-49ed-4960-cb2f-3309d04b9ef8"
      },
      "execution_count": null,
      "outputs": [
        {
          "output_type": "stream",
          "name": "stdout",
          "text": [
            "請輸入x1=0\n",
            "請輸入y1=0\n",
            "請輸入x2=3\n",
            "請輸入y2=4\n",
            "AB距離= 5.0\n"
          ]
        }
      ]
    },
    {
      "cell_type": "code",
      "source": [
        "a = int(input('身高為(cm)'))\n",
        "b = int(input('體重為(kg)'))\n",
        "b /= 0.01*a\n",
        "b /= 0.01*a\n",
        "print(int(b<18.5))\n",
        "\n"
      ],
      "metadata": {
        "colab": {
          "base_uri": "https://localhost:8080/"
        },
        "id": "hygysZ4A3sAs",
        "outputId": "3b496c9b-ed6d-4b22-d4c2-8a8400545965"
      },
      "execution_count": 2,
      "outputs": [
        {
          "output_type": "stream",
          "name": "stdout",
          "text": [
            "身高為(cm)147\n",
            "體重為(kg)39\n",
            "1\n"
          ]
        }
      ]
    }
  ]
}
