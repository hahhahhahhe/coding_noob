{
 "cells": [
  {
   "cell_type": "code",
   "execution_count": 141,
   "id": "5b47e0f1-e473-49e5-a817-61bb8def22ce",
   "metadata": {},
   "outputs": [
    {
     "name": "stdin",
     "output_type": "stream",
     "text": [
      "請輸入中文數字(如兩百五十三)： 五千兩百六十兆兩千五百三十七億四千萬五千二十二\n"
     ]
    },
    {
     "name": "stdout",
     "output_type": "stream",
     "text": [
      "5260253740005022\n"
     ]
    }
   ],
   "source": [
    "table = {\n",
    "    \"一\" : 1,\n",
    "    \"二\" : 2,\n",
    "    \"兩\" : 2,\n",
    "    \"三\" : 3,\n",
    "    \"四\" : 4,\n",
    "    \"五\" : 5,\n",
    "    \"六\" : 6,\n",
    "    \"七\" : 7,\n",
    "    \"八\" : 8,\n",
    "    \"九\" : 9,\n",
    "    \"十\" : 10,\n",
    "    \"百\" : 100,\n",
    "    \"千\" : 1000,\n",
    "    \"萬\" : 10000,\n",
    "    \"億\" : 100000000,\n",
    "    \"兆\" : 1000000000000\n",
    "}\n",
    "\n",
    "\n",
    "\n",
    "def cut(a,b):\n",
    "    cut_result = []\n",
    "    for i in range(len(a)):\n",
    "        if i+1 <= len(a)-1:\n",
    "            cut_result.append(b[a[i]:a[i+1]])\n",
    "    return cut_result\n",
    "\n",
    "\n",
    "\n",
    "def count(a):\n",
    "    count_result = 1\n",
    "    for i in range(len(a)):\n",
    "        count_result *= a[i]\n",
    "    return count_result\n",
    "\n",
    "\n",
    "\n",
    "ch_num = input(\"請輸入中文數字(如兩百五十三)：\")\n",
    "num_list = list(ch_num)\n",
    "cut_list = []\n",
    "result = 0\n",
    "for i in range(len(num_list)):\n",
    "    if num_list[i] == \"兆\" or num_list[i] == \"億\" or num_list[i] == \"萬\":\n",
    "        cut_list.append(i+1)\n",
    "cut_list.append(len(num_list))\n",
    "cut_list.insert(0,0)\n",
    "for i in range(len(num_list)):\n",
    "    num_list[i] = table[num_list[i]]\n",
    "count_mid1 = cut(cut_list,num_list)\n",
    "count_mid1[-1].append(1)\n",
    "\n",
    "\n",
    "\n",
    "for i in range(len(count_mid1)):\n",
    "    cut_list = []\n",
    "    count_mid2 = []\n",
    "    result_mid = 0\n",
    "    for j in range(len(count_mid1[i])):\n",
    "        if count_mid1[i][j] >= 1 and count_mid1[i][j] <= 9:\n",
    "            cut_list.append(j)\n",
    "    cut_list.append(len(count_mid1[i])-1)\n",
    "    count_mid2 = cut(cut_list,count_mid1[i])\n",
    "    for k in range(len(count_mid2)):\n",
    "        result_mid += count(count_mid2[k])\n",
    "    result_mid *= count_mid1[i][-1]\n",
    "    result += result_mid\n",
    "\n",
    "print(result-1)\n",
    "#五千兩百六十兆兩千五百三十七億四千萬五千二十二 5260253740005022\n",
    "#五千二百六十四兆兩千三百五十八億四千四百二十萬五千三百二十二 5264235844205322\n"
   ]
  },
  {
   "cell_type": "code",
   "execution_count": 131,
   "id": "ff715b5b-0d71-4e4f-929b-4126b3ac4676",
   "metadata": {
    "scrolled": true
   },
   "outputs": [
    {
     "data": {
      "text/plain": [
       "[[2], [10, 10000], [4, 1000], [5, 100], [3, 10]]"
      ]
     },
     "execution_count": 131,
     "metadata": {},
     "output_type": "execute_result"
    }
   ],
   "source": [
    "#test\n",
    "\n",
    "def cut(a,b):\n",
    "    cut_result = []\n",
    "    for i in range(len(a)):\n",
    "        if i+1 <= len(a)-1:\n",
    "            cut_result.append(b[a[i]:a[i+1]])\n",
    "    return cut_result\n",
    "\n",
    "def count(a):\n",
    "    count_result = 1\n",
    "    for i in range(len(a)):\n",
    "        count_result *= a[i]\n",
    "    return count_result\n",
    "\n",
    "\n",
    "a = [0,1,3,5,7,9]\n",
    "b = [2,10,10000,4,1000,5,100,3,10]\n",
    "c = []\n",
    "cut(a,b)"
   ]
  }
 ],
 "metadata": {
  "kernelspec": {
   "display_name": "Python 3 (ipykernel)",
   "language": "python",
   "name": "python3"
  },
  "language_info": {
   "codemirror_mode": {
    "name": "ipython",
    "version": 3
   },
   "file_extension": ".py",
   "mimetype": "text/x-python",
   "name": "python",
   "nbconvert_exporter": "python",
   "pygments_lexer": "ipython3",
   "version": "3.12.4"
  }
 },
 "nbformat": 4,
 "nbformat_minor": 5
}
