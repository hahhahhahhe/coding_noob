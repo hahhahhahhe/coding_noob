{
  "nbformat": 4,
  "nbformat_minor": 0,
  "metadata": {
    "colab": {
      "provenance": []
    },
    "kernelspec": {
      "name": "python3",
      "display_name": "Python 3"
    },
    "language_info": {
      "name": "python"
    }
  },
  "cells": [
    {
      "cell_type": "code",
      "execution_count": 21,
      "metadata": {
        "colab": {
          "base_uri": "https://localhost:8080/"
        },
        "id": "VtB_lXB3dSBs",
        "outputId": "9b6bcb20-d61b-4caf-e2fe-fb1bcc520837"
      },
      "outputs": [
        {
          "output_type": "stream",
          "name": "stdout",
          "text": [
            "12 23 32 54 14\n",
            "23.0\n"
          ]
        }
      ],
      "source": [
        "a = input().split()\n",
        "a = [int(i) for i in a]\n",
        "a.sort()\n",
        "del a[0]\n",
        "del a[(-1)]\n",
        "b = sum(int(n) for n in a)\n",
        "print(b/len(a))"
      ]
    },
    {
      "cell_type": "code",
      "source": [
        "a = input().split()\n",
        "a[0] = int(a[0])\n",
        "a[1] = int(a[1])\n",
        "if a[2] == '+':\n",
        "  print(a[0]+a[1])\n",
        "elif a[2] == '-':\n",
        "  print(a[0]-a[1])\n",
        "elif a[2] == '*':\n",
        "  print(a[0]*a[1])\n",
        "elif a[2] == '/':\n",
        "  print(a[0]/a[1])\n",
        "\n"
      ],
      "metadata": {
        "colab": {
          "base_uri": "https://localhost:8080/"
        },
        "id": "oqkDPhXMj-Gx",
        "outputId": "8300cb78-692c-46dc-e434-7836ff1d5b3f"
      },
      "execution_count": 39,
      "outputs": [
        {
          "output_type": "stream",
          "name": "stdout",
          "text": [
            "12 24 /\n",
            "0.5\n"
          ]
        }
      ]
    },
    {
      "cell_type": "code",
      "source": [
        "a = int(input())\n",
        "if a % 4 == 0:\n",
        "  print('閏年')\n",
        "else:\n",
        "  print('平年')"
      ],
      "metadata": {
        "colab": {
          "base_uri": "https://localhost:8080/"
        },
        "id": "2nPJycJlbc5L",
        "outputId": "26da8d49-b9cf-4c77-9ac2-84cce5a8a61f"
      },
      "execution_count": 42,
      "outputs": [
        {
          "output_type": "stream",
          "name": "stdout",
          "text": [
            "2023\n",
            "平年\n"
          ]
        }
      ]
    }
  ]
}
